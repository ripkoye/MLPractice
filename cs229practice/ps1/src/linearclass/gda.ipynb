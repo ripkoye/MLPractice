{
 "cells": [
  {
   "cell_type": "code",
   "execution_count": 45,
   "metadata": {},
   "outputs": [],
   "source": [
    "import numpy as np\n",
    "import util\n",
    "\n",
    "\n",
    "def main(train_path, valid_path, save_path):\n",
    "    \"\"\"Problem: Gaussian discriminant analysis (GDA)\n",
    "\n",
    "    Args:\n",
    "        train_path: Path to CSV file containing dataset for training.\n",
    "        valid_path: Path to CSV file containing dataset for validation.\n",
    "        save_path: Path to save predicted probabilities using np.savetxt().\n",
    "    \"\"\"\n",
    "    # Load dataset\n",
    "    x_train, y_train = util.load_dataset(train_path, add_intercept=False)\n",
    "    x_test, y_test = util.load_dataset(valid_path, add_intercept=False)\n",
    "\n",
    "    # *** START CODE HERE ***\n",
    "    # Train a GDA classifier\n",
    "    # Plot decision boundary on validation set\n",
    "    # Use np.savetxt to save outputs from validation set to save_path\n",
    "    \n",
    "    #util.plot(x_test, y_test, theta=None, save_path='gdaset.png')\n",
    "    \n",
    "    # *** END CODE HERE ***"
   ]
  },
  {
   "cell_type": "code",
   "execution_count": 46,
   "metadata": {},
   "outputs": [],
   "source": [
    "class GDA:\n",
    "    \"\"\"Gaussian Discriminant Analysis.\n",
    "\n",
    "    Example usage:\n",
    "        > clf = GDA()\n",
    "        > clf.fit(x_train, y_train)\n",
    "        > clf.predict(x_eval)\n",
    "    \"\"\"\n",
    "    def __init__(self, step_size=0.01, max_iter=10000, eps=1e-5,\n",
    "                 theta_0=None, verbose=True):\n",
    "        \"\"\"\n",
    "        Args:\n",
    "            step_size: Step size for iterative solvers only.\n",
    "            max_iter: Maximum number of iterations for the solver.\n",
    "            eps: Threshold for determining convergence.\n",
    "            theta_0: Initial guess for theta. If None, use the zero vector.\n",
    "            verbose: Print loss values during training.\n",
    "        \"\"\"\n",
    "        self.theta = theta_0\n",
    "        self.step_size = step_size\n",
    "        self.max_iter = max_iter\n",
    "        self.eps = eps\n",
    "        self.verbose = verbose\n",
    "\n",
    "    def fit(self, x, y):\n",
    "        \"\"\"Fit a GDA model to training set given by x and y by updating\n",
    "        self.theta.\n",
    "\n",
    "        Args:\n",
    "            x: Training example inputs. Shape (n_examples, dim).\n",
    "            y: Training example labels. Shape (n_examples,).\n",
    "        \"\"\"\n",
    "        # *** START CODE HERE ***\n",
    "        phi = np.mean(y==1, axis=0)\n",
    "        mu_0 = np.mean(x[y == 0], axis=0)\n",
    "        mu_1 = np.mean(x[y == 1], axis=0)\n",
    "\n",
    "        y_reshaped = np.reshape(y, (y.shape[0], -1))\n",
    "\n",
    "        mu_x = y_reshaped * mu_1 + (1-y_reshaped) *mu_0\n",
    "\n",
    "        sigma = x - mu_x\n",
    "        sigma = np.dot((x-mu_x).T, (x-mu_x)) / y.shape[0]\n",
    "        sigma_inv = np.linalg.inv(sigma)\n",
    "        \n",
    "        theta = np.dot(sigma_inv, mu_1-mu_0)\n",
    "        theta_0 = 1/2 * mu_0 @ sigma_inv @ mu_0 - 1/2* mu_1 @ sigma_inv @ mu_1 - np.log((1-phi)/phi)\n",
    "\n",
    "        self.theta = np.insert(theta, 0, theta_0)\n",
    "\n",
    "\n",
    "\n",
    "\n",
    "\n",
    "        # Find phi, mu_0, mu_1, and sigma\n",
    "        # Write theta in terms of the parameters\n",
    "        # *** END CODE HERE ***\n",
    "\n",
    "    def predict(self, x):\n",
    "        \"\"\"Make a prediction given new inputs x.\n",
    "\n",
    "        Args:\n",
    "            x: Inputs of shape (n_examples, dim).\n",
    "\n",
    "        Returns:\n",
    "            Outputs of shape (n_examples,).\n",
    "        \"\"\"\n",
    "        # *** START CODE HERE ***\n",
    "        return util.add_intercept(x) @ self.theta>=0\n",
    "        # *** END CODE HERE"
   ]
  },
  {
   "cell_type": "code",
   "execution_count": 54,
   "metadata": {},
   "outputs": [
    {
     "name": "stdout",
     "output_type": "stream",
     "text": [
      "accuracy:  0.81\n"
     ]
    },
    {
     "data": {
      "image/png": "[encoded data removed]",
      "text/plain": [
       "<Figure size 640x480 with 1 Axes>"
      ]
     },
     "metadata": {},
     "output_type": "display_data"
    }
   ],
   "source": [
    "train_path = 'ds1_train.csv'\n",
    "valid_path = 'ds1_valid.csv'\n",
    "#save_path = 'GDA_pred_1.txt'\n",
    "\n",
    "x_train, y_train = util.load_dataset(train_path, add_intercept=False)\n",
    "x_test, y_test = util.load_dataset(valid_path, add_intercept=False)\n",
    "Gaussian = GDA()\n",
    "Gaussian.fit(x_train, y_train)\n",
    "y_pred = Gaussian.predict(x_test)\n",
    "accuracy = np.mean(y_pred == y_test)\n",
    "print(f'accuracy: ', accuracy)\n",
    "util.plot(x_test, y_test, theta=Gaussian.theta, save_path='GDA_pred_1.png')"
   ]
  },
  {
   "cell_type": "code",
   "execution_count": null,
   "metadata": {},
   "outputs": [],
   "source": [
    "#x_train, y_train = util.load_dataset(ds2_training_set_path, add_intercept=True)\n"
   ]
  },
  {
   "cell_type": "code",
   "execution_count": 48,
   "metadata": {},
   "outputs": [],
   "source": [
    "if __name__ == '__main__':\n",
    "    main(train_path='ds1_train.csv',\n",
    "         valid_path='ds1_valid.csv',\n",
    "         save_path='gda_pred_1.txt')\n",
    "\n",
    "    main(train_path='ds2_train.csv',\n",
    "         valid_path='ds2_valid.csv',\n",
    "         save_path='gda_pred_2.txt')\n"
   ]
  }
 ],
 "metadata": {
  "kernelspec": {
   "display_name": "Python 3",
   "language": "python",
   "name": "python3"
  },
  "language_info": {
   "codemirror_mode": {
    "name": "ipython",
    "version": 3
   },
   "file_extension": ".py",
   "mimetype": "text/x-python",
   "name": "python",
   "nbconvert_exporter": "python",
   "pygments_lexer": "ipython3",
   "version": "3.12.5"
  }
 },
 "nbformat": 4,
 "nbformat_minor": 2
}
